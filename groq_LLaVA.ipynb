{
  "nbformat": 4,
  "nbformat_minor": 0,
  "metadata": {
    "colab": {
      "provenance": [],
      "authorship_tag": "ABX9TyNmWZff8hS84WntsfM6YYg4",
      "include_colab_link": true
    },
    "kernelspec": {
      "name": "python3",
      "display_name": "Python 3"
    },
    "language_info": {
      "name": "python"
    }
  },
  "cells": [
    {
      "cell_type": "markdown",
      "metadata": {
        "id": "view-in-github",
        "colab_type": "text"
      },
      "source": [
        "<a href=\"https://colab.research.google.com/github/naashonomics/projects_python/blob/main/groq_LLaVA.ipynb\" target=\"_parent\"><img src=\"https://colab.research.google.com/assets/colab-badge.svg\" alt=\"Open In Colab\"/></a>"
      ]
    },
    {
      "cell_type": "code",
      "execution_count": null,
      "metadata": {
        "id": "ESCHdpMQuMdD"
      },
      "outputs": [],
      "source": [
        "!pip install groq\n",
        "!pip install gradio"
      ]
    },
    {
      "cell_type": "code",
      "source": [
        "from getpass import getpass\n",
        "import os\n",
        "\n",
        "# Securely input your API key\n",
        "api_key = getpass(\"Enter your API key: \")\n",
        "\n",
        "# Set it as an environment variable\n",
        "os.environ[\"GROQ_API_KEY\"] = api_key\n",
        "\n"
      ],
      "metadata": {
        "id": "GsxfmzV_v9O1"
      },
      "execution_count": null,
      "outputs": []
    },
    {
      "cell_type": "code",
      "source": [
        "\n",
        "from groq import Groq\n",
        "\n",
        "client = Groq()\n",
        "completion = client.chat.completions.create(\n",
        "    model=\"llava-v1.5-7b-4096-preview\",\n",
        "    messages=[\n",
        "        {\n",
        "            \"role\": \"user\",\n",
        "            \"content\": [\n",
        "                {\"type\": \"text\", \"text\": \"What's in this image?\"},\n",
        "                {\"type\": \"image_url\", \"image_url\": {\"url\": \"https://images.pexels.com/photos/3225517/pexels-photo-3225517.jpeg\"}}\n",
        "            ]\n",
        "        },\n",
        "    ],\n",
        "    temperature=1,\n",
        "    max_tokens=1024,\n",
        "    top_p=1,\n",
        "    stream=False,\n",
        "    stop=None,\n",
        ")\n",
        "\n",
        "print(completion.choices[0].message.content)"
      ],
      "metadata": {
        "colab": {
          "base_uri": "https://localhost:8080/"
        },
        "id": "rI1PiTGzxkWG",
        "outputId": "3c220f6d-8069-42b2-e7c6-be8bab96f94c"
      },
      "execution_count": null,
      "outputs": [
        {
          "output_type": "stream",
          "name": "stdout",
          "text": [
            "The image features a beautiful landscape with dried-up water running through a canyon in a rocky gorge. Trees in the scene are in varying positions, some close to the water and others further away, creating a diverse view of the canyon. Numerous clouds in the sky add an atmospheric touch to the scene. This picturesque place seems to be situated in a desert-like environment, as there is a sinking branch sitting in the water of the creek. Overall, the image exudes a sense of tranquility and natural beauty.\n"
          ]
        }
      ]
    },
    {
      "cell_type": "code",
      "source": [
        "import gradio as gr\n",
        "from groq import Groq\n",
        "import time\n",
        "\n",
        "# Function to analyze an image from a URL with retry mechanism\n",
        "def analyze_image(image_url, retries=3, delay=2):\n",
        "    for attempt in range(retries):\n",
        "        try:\n",
        "            client = Groq()\n",
        "            completion = client.chat.completions.create(\n",
        "                model=\"llava-v1.5-7b-4096-preview\",\n",
        "                messages=[\n",
        "                    {\n",
        "                        \"role\": \"user\",\n",
        "                        \"content\": [\n",
        "                            {\"type\": \"text\", \"text\": \"What's in this image?\"},\n",
        "                            {\"type\": \"image_url\", \"image_url\": {\"url\": image_url}}\n",
        "                        ]\n",
        "                    },\n",
        "                ],\n",
        "                temperature=1,\n",
        "                max_tokens=1024,\n",
        "                top_p=1,\n",
        "                stream=False,\n",
        "                stop=None,\n",
        "            )\n",
        "            return completion.choices[0].message.content\n",
        "        except Exception as e:\n",
        "            if attempt < retries - 1:\n",
        "                print(f\"API issue encountered: {e}. Retrying in {delay} seconds...\")\n",
        "                time.sleep(delay)  # Wait before retrying\n",
        "            else:\n",
        "                return f\"Failed after {retries} attempts. Error: {e}\"\n",
        "\n",
        "# Gradio interface\n",
        "def gradio_interface(image_url):\n",
        "    if image_url:\n",
        "        # Analyze the image and return both the image and the AI's response\n",
        "        ai_response = analyze_image(image_url)\n",
        "        return image_url, ai_response\n",
        "    else:\n",
        "        return None, \"Please provide an image URL.\"\n",
        "\n",
        "# Create a Gradio interface with both image and text outputs\n",
        "iface = gr.Interface(\n",
        "    fn=gradio_interface,\n",
        "    inputs=gr.Textbox(label=\"Enter Image URL\"),\n",
        "    outputs=[gr.Image(label=\"Image\"), gr.Textbox(label=\"AI's Response\")],\n",
        "    title=\"Image Analyzer with AI\",\n",
        "    description=\"Enter an image URL to see what the AI thinks is in the image.\"\n",
        ")\n",
        "\n",
        "# Launch the Gradio interface\n",
        "iface.launch(debug=True)\n"
      ],
      "metadata": {
        "colab": {
          "base_uri": "https://localhost:8080/",
          "height": 630
        },
        "id": "j43BgwVl_mG_",
        "outputId": "c35317c2-aa38-455a-d7b0-7cd9cfc525b3"
      },
      "execution_count": null,
      "outputs": [
        {
          "metadata": {
            "tags": null
          },
          "name": "stdout",
          "output_type": "stream",
          "text": [
            "Setting queue=True in a Colab notebook requires sharing enabled. Setting `share=True` (you can turn this off by setting `share=False` in `launch()` explicitly).\n",
            "\n",
            "Colab notebook detected. This cell will run indefinitely so that you can see errors and logs. To turn off, set debug=False in launch().\n",
            "Running on public URL: https://e67b325995d945bb6e.gradio.live\n",
            "\n",
            "This share link expires in 72 hours. For free permanent hosting and GPU upgrades, run `gradio deploy` from Terminal to deploy to Spaces (https://huggingface.co/spaces)\n"
          ]
        },
        {
          "data": {
            "text/html": [
              "<div><iframe src=\"https://e67b325995d945bb6e.gradio.live\" width=\"100%\" height=\"500\" allow=\"autoplay; camera; microphone; clipboard-read; clipboard-write;\" frameborder=\"0\" allowfullscreen></iframe></div>"
            ],
            "text/plain": [
              "<IPython.core.display.HTML object>"
            ]
          },
          "metadata": {},
          "output_type": "display_data"
        }
      ]
    }
  ]
}